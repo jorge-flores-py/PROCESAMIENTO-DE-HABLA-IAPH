{
  "nbformat": 4,
  "nbformat_minor": 0,
  "metadata": {
    "colab": {
      "provenance": [],
      "gpuType": "T4",
      "include_colab_link": true
    },
    "kernelspec": {
      "name": "python3",
      "display_name": "Python 3"
    },
    "language_info": {
      "name": "python"
    },
    "accelerator": "GPU"
  },
  "cells": [
    {
      "cell_type": "markdown",
      "metadata": {
        "id": "view-in-github",
        "colab_type": "text"
      },
      "source": [
        "<a href=\"https://colab.research.google.com/github/jorge-flores-py/PROCESAMIENTO-DE-HABLA-IAPH/blob/main/TP4_chatbot_retrieval_JORGE_FLORES.ipynb\" target=\"_parent\"><img src=\"https://colab.research.google.com/assets/colab-badge.svg\" alt=\"Open In Colab\"/></a>"
      ]
    },
    {
      "cell_type": "code",
      "execution_count": 4,
      "metadata": {
        "id": "hghx5BwKdm-A",
        "colab": {
          "base_uri": "https://localhost:8080/"
        },
        "outputId": "c3bded8c-0cbf-41a6-bf51-788609e367e3"
      },
      "outputs": [
        {
          "output_type": "stream",
          "name": "stdout",
          "text": [
            "\u001b[2K     \u001b[90m━━━━━━━━━━━━━━━━━━━━━━━━━━━━━━━━━━━━━━━━\u001b[0m \u001b[32m12.9/12.9 MB\u001b[0m \u001b[31m94.4 MB/s\u001b[0m eta \u001b[36m0:00:00\u001b[0m\n",
            "\u001b[?25h\u001b[38;5;2m✔ Download and installation successful\u001b[0m\n",
            "You can now load the package via spacy.load('es_core_news_sm')\n",
            "\u001b[38;5;3m⚠ Restart to reload dependencies\u001b[0m\n",
            "If you are in a Jupyter or Colab notebook, you may need to restart Python in\n",
            "order to load all the package's dependencies. You can do this by selecting the\n",
            "'Restart kernel' or 'Restart runtime' option.\n"
          ]
        }
      ],
      "source": [
        "!pip install spacy --quiet\n",
        "!python -m spacy download es_core_news_sm --quiet\n"
      ]
    },
    {
      "cell_type": "code",
      "source": [
        "import spacy\n",
        "nlp = spacy.load(\"es_core_news_sm\")\n",
        "import es_core_news_sm\n",
        "nlp = es_core_news_sm.load()\n",
        "doc = nlp(\"Esto es una frase.\")\n",
        "print([(w.text, w.pos_) for w in doc])"
      ],
      "metadata": {
        "id": "D9SRh-eDdpWp"
      },
      "execution_count": null,
      "outputs": []
    },
    {
      "cell_type": "code",
      "source": [],
      "metadata": {
        "id": "Qr3pyit4kWQn"
      },
      "execution_count": null,
      "outputs": []
    },
    {
      "cell_type": "markdown",
      "source": [
        "# Chatbots basados en recuperación\n",
        "\n",
        "En inglés information retrieval chatbots"
      ],
      "metadata": {
        "id": "UnrG-1ylkncZ"
      }
    },
    {
      "cell_type": "markdown",
      "source": [
        "# Motor de búsqueda"
      ],
      "metadata": {
        "id": "s3bs1FmWkfrz"
      }
    },
    {
      "cell_type": "markdown",
      "source": [
        "* Búsqueda por palabras clave: Extrae palabras clave de la pregunta del usuario y busca coincidencias en las preguntas almacenadas.\n",
        "\n",
        "* Similitud del coseno: Si has representado las preguntas como vectores (por ejemplo, usando TF-IDF o word embeddings), puedes usar la similitud del coseno para medir la distancia entre las preguntas.\n",
        "\n",
        "* Word embeddings: Utiliza modelos de word embeddings como Word2Vec o BERT para obtener representaciones semánticas de las preguntas y las consultas del usuario."
      ],
      "metadata": {
        "id": "enbz9kXGkWlx"
      }
    },
    {
      "cell_type": "markdown",
      "source": [
        "### Búsqueda por palabras claves"
      ],
      "metadata": {
        "id": "UQoVRp4gjxUo"
      }
    },
    {
      "cell_type": "code",
      "source": [
        "tu_diccionario = {\n",
        "   \"hola\": \"¡Hola! ¿En qué puedo ayudarte?\",\n",
        "   \"adiós\": \"Hasta luego. ¡Que tengas un buen día!\",\n",
        "   \"información\": \"¿Qué tipo de información estás buscando?\",\n",
        "   # Agrega más entradas de diccionario según tus necesidades\n",
        "}\n"
      ],
      "metadata": {
        "id": "3BljEMEOhpTO"
      },
      "execution_count": null,
      "outputs": []
    },
    {
      "cell_type": "code",
      "source": [
        "def responder_pregunta(pregunta):\n",
        "    pregunta_procesada = nlp(pregunta.lower())  # Procesa la pregunta y convierte a minúsculas\n",
        "    respuesta = \"Lo siento, no entiendo tu pregunta.\"\n",
        "\n",
        "    # Busca una coincidencia en el diccionario\n",
        "    for palabra in pregunta_procesada:\n",
        "        # regresa la primer coincidencia que encuentra\n",
        "        if palabra.text in tu_diccionario:\n",
        "            respuesta = tu_diccionario[palabra.text]\n",
        "            break\n",
        "\n",
        "    return respuesta\n"
      ],
      "metadata": {
        "id": "Z4q_k1_3hvyz"
      },
      "execution_count": null,
      "outputs": []
    },
    {
      "cell_type": "code",
      "source": [
        "while True:\n",
        "    entrada_usuario = input(\"Tú: \")\n",
        "    if entrada_usuario.lower() == \"salir\":\n",
        "        print(\"Chatbot: Hasta luego.\")\n",
        "        break\n",
        "    respuesta = responder_pregunta(entrada_usuario)\n",
        "    print(\"Chatbot:\", respuesta)\n"
      ],
      "metadata": {
        "id": "9gMPKi-ghwcA"
      },
      "execution_count": null,
      "outputs": []
    },
    {
      "cell_type": "markdown",
      "source": [],
      "metadata": {
        "id": "6S88twrY5sOS"
      }
    },
    {
      "cell_type": "markdown",
      "source": [
        "## Búsqueda por similitud"
      ],
      "metadata": {
        "id": "nI2FsyUOj3je"
      }
    },
    {
      "cell_type": "markdown",
      "source": [
        "Para los chatbots basados ​​en recuperación, es común utilizar bolsas de palabras (bag of words) o tf-idf para calcular la similitud de intenciones."
      ],
      "metadata": {
        "id": "AoZIaX0Kj7xs"
      }
    },
    {
      "cell_type": "code",
      "source": [
        "from sklearn.feature_extraction.text import TfidfVectorizer\n",
        "from sklearn.metrics.pairwise import cosine_similarity\n",
        "\n",
        "# Datos de ejemplo\n",
        "preguntas = [\"¿Qué es el aprendizaje automático?\",\n",
        "             \"¿Cómo funciona la regresión lineal?\"]\n",
        "respuestas = [\"El aprendizaje automático es una rama de la inteligencia artificial...\",\n",
        "              \"La regresión lineal es un método de modelado...\"]\n",
        "\n",
        "# Vectorización con TF-IDF\n",
        "vectorizer = TfidfVectorizer()\n",
        "tfidf_matrix = vectorizer.fit_transform(preguntas)\n",
        "\n",
        "# Función para encontrar la mejor coincidencia\n",
        "def responder_pregunta(consulta_usuario):\n",
        "    consulta_vec = vectorizer.transform([consulta_usuario])\n",
        "    similitudes = cosine_similarity(consulta_vec, tfidf_matrix).flatten()\n",
        "    print(similitudes)\n",
        "    indice_mejor_coincidencia = similitudes.argmax()\n",
        "    print(indice_mejor_coincidencia)\n",
        "    return respuestas[indice_mejor_coincidencia]\n"
      ],
      "metadata": {
        "id": "CReIz0ISj75s"
      },
      "execution_count": null,
      "outputs": []
    },
    {
      "cell_type": "code",
      "source": [
        "\n",
        "# Ejemplo de consulta\n",
        "consulta = \"¿Qué es la regresión lineal?\"\n",
        "print(responder_pregunta(consulta))\n"
      ],
      "metadata": {
        "id": "foqaZ1FN583i"
      },
      "execution_count": null,
      "outputs": []
    },
    {
      "cell_type": "markdown",
      "source": [
        "## Búsqueda por similitud en embeddings"
      ],
      "metadata": {
        "id": "20KCxfCymOHP"
      }
    },
    {
      "cell_type": "markdown",
      "source": [
        "Puedes vectorizar el texto usando embeddings, como vimos la clase pasada.\n"
      ],
      "metadata": {
        "id": "7g6jgLSLnilX"
      }
    },
    {
      "cell_type": "markdown",
      "source": [
        "## Actividades\n",
        "\n",
        "### 1) Elaborar un dataset de preguntas y respuestas para crear un Chatbot para un aplicación particular. ( 3 puntos )\n",
        "\n",
        "1.1 Debe definir la aplicación (atención al cliente bancario, atención a estudiantes universitarios, etc).\n",
        "1.2 El listado de preguntas y respuestas debe tener como mínimo 20 elementos pregunta - respuesta.\n",
        "\n",
        "###  2) Crear el chatbot utilizando TFIDF y similitud del coseno. (1 punto)\n",
        "\n",
        "### 3) Crear otro chatbot utilizando embeddings. Indique cuál embedding (1 punto) pre-entrenado eligió.\n",
        "\n",
        "### 4) Muestra ambos chatbots funcionando (1 punto)\n",
        "\n",
        "Adjuntar la lista de preguntas utilizadas para probar el funcionamiento.\n",
        "\n",
        "### 5) Añade tus conclusiones de todo lo realizado (2 punto)\n",
        "\n",
        "### 6) BONUS: usa lo realizado en 1 y 3 para crear un chatbot RAG. (2 puntos)\n",
        "\n",
        "* Utiliza un modelo LLM pre-entrenado.\n",
        "\n",
        "* Este punto no es obligatorio de realizar para quienes quieran regularizar / recuperar y luego rendirán en mesa.\n",
        "* Para quienes tienen condiciones para promocionar (han realizado y entregado los TPs a tiempo) la resolución de este ejercicio será tenida en cuenta para sumar a la promoción.\n",
        "\n",
        "### 7) No olvides:\n",
        "\n",
        "* Explicar tus decisiones y configuraciones. Añadir tus conclusiones.\n",
        "* Anunciar en el foro cuál será tu aplicación y postear tu entrega y tus avances.\n",
        "* Debes subir tu notebook a un repo GitHub público de tu propiedad compartido + enlace colab.\n",
        "* Documentar todo el proceso.\n",
        "\n",
        "\n",
        "\n"
      ],
      "metadata": {
        "id": "1sGxF1VglJVd"
      }
    },
    {
      "cell_type": "markdown",
      "source": [
        "## 1) Elaborar un dataset de preguntas y respuestas para crear un Chatbot para un aplicación particular. ( 3 puntos )"
      ],
      "metadata": {
        "id": "RF9Y9VB9ZehF"
      }
    },
    {
      "cell_type": "code",
      "source": [
        "!pip install -U sentence-transformers\n"
      ],
      "metadata": {
        "id": "G2KoU5xka7md"
      },
      "execution_count": null,
      "outputs": []
    },
    {
      "cell_type": "code",
      "source": [
        "import re\n",
        "import spacy\n",
        "import pandas as pd\n",
        "from spacy.lang.es.stop_words import STOP_WORDS\n",
        "from sklearn.feature_extraction.text import TfidfVectorizer\n",
        "from sklearn.metrics.pairwise import cosine_similarity"
      ],
      "metadata": {
        "id": "6Y0WeXUtFqZb"
      },
      "execution_count": 29,
      "outputs": []
    },
    {
      "cell_type": "code",
      "source": [
        "nlp = spacy.load(\"es_core_news_sm\")\n",
        "stopwords_es = set(STOP_WORDS)\n"
      ],
      "metadata": {
        "id": "0AsbzeQyZ8y4"
      },
      "execution_count": 30,
      "outputs": []
    },
    {
      "cell_type": "code",
      "source": [
        "def limpiar_texto(text):\n",
        "    text = text.lower()\n",
        "    text = re.sub(r'[.!¿?¡,\"\\':“”«»…]', '', text)\n",
        "    text = re.sub(r'\\s+', ' ', text).strip()\n",
        "    text = re.sub(r'[^a-zñáéíóúü\\s]', '', text)\n",
        "    return text\n",
        "\n",
        "def lematizar_y_filtrar(text):\n",
        "    doc = nlp(text)\n",
        "    lemas = [token.lemma_ for token in doc if token.lemma_ not in stopwords_es and token.is_alpha]\n",
        "    return \" \".join(lemas)\n",
        "\n",
        "def procesar_preguntas(preguntas):\n",
        "    preguntas_limpias = [limpiar_texto(p) for p in preguntas]\n",
        "    return [lematizar_y_filtrar(p) for p in preguntas_limpias]"
      ],
      "metadata": {
        "id": "HIzRve33aREE"
      },
      "execution_count": 31,
      "outputs": []
    },
    {
      "cell_type": "code",
      "source": [
        "faq_data = [\n",
        "    (\"¿Cómo me inscribo a una materia?\", \"Debés ingresar al sistema de autogestión, ir a la sección 'Materias' y seleccionar 'Inscribirse'.\"),\n",
        "    (\"¿Dónde veo mis notas?\", \"Podés ver tus notas desde el menú 'Historial Académico' en el sistema de autogestión.\"),\n",
        "    (\"¿Qué pasa si me llevo una materia?\", \"Deberás recursarla el próximo cuatrimestre.\"),\n",
        "    (\"¿Puedo cambiarme de turno?\", \"Sí, durante el período de ajuste podés cambiarte de turno desde el sistema.\"),\n",
        "    (\"¿Cómo consulto mis faltas?\", \"Las faltas se consultan desde la sección 'Asistencia' del sistema de alumnos.\"),\n",
        "    (\"¿Dónde pido el certificado de alumno regular?\", \"Desde 'Trámites Online' podés solicitarlo y descargarlo.\"),\n",
        "    (\"¿Cuántas materias puedo cursar por cuatrimestre?\", \"Podés cursar hasta 5 materias por cuatrimestre.\"),\n",
        "    (\"¿Qué es el SIU Guaraní?\", \"Es el sistema de gestión académica donde gestionás tus materias y notas.\"),\n",
        "    (\"¿Cómo consulto el calendario académico?\", \"El calendario está disponible en la web oficial del instituto.\"),\n",
        "    (\"¿Dónde veo mi promedio?\", \"Tu promedio está disponible en el 'Historial Académico' dentro del sistema.\"),\n",
        "    (\"¿Qué hago si tengo problemas con el campus virtual?\", \"Contactá a soporte técnico o enviá un mail a soporte@universidad.edu.\"),\n",
        "    (\"¿Puedo recursar una materia aprobada?\", \"No, sólo podés recursar materias desaprobadas.\"),\n",
        "    (\"¿Qué pasa si abandono una materia?\", \"Figurarás como ausente y no afectará tu promedio.\"),\n",
        "    (\"¿Cómo pido una equivalencia?\", \"Debés completar el formulario de equivalencias y presentarlo con tu plan de estudios.\"),\n",
        "    (\"¿Cuándo son las inscripciones?\", \"Las inscripciones se habilitan una semana antes del inicio del cuatrimestre.\"),\n",
        "    (\"¿Qué es una correlativa?\", \"Es una materia que debés aprobar antes de cursar otra.\"),\n",
        "    (\"¿Cómo consulto mi situación académica?\", \"Desde 'Historial Académico' podés ver tu situación actual.\"),\n",
        "    (\"¿Dónde encuentro el material de estudio?\", \"Todo el material está en el campus virtual en cada materia.\"),\n",
        "    (\"¿Puedo rendir un final libre?\", \"Sí, pero tenés que anotarte en los turnos establecidos.\"),\n",
        "    (\"¿Cómo me contacto con un profesor?\", \"Podés enviarle un mensaje desde el campus o escribirle a su mail institucional.\")\n",
        "]\n"
      ],
      "metadata": {
        "id": "iTeJVaoUZeLK"
      },
      "execution_count": 7,
      "outputs": []
    },
    {
      "cell_type": "code",
      "source": [
        "preguntas_raw = [p for p, r in faq_data]\n",
        "respuestas = [r for p, r in faq_data]\n",
        "\n",
        "preguntas_procesadas = procesar_preguntas(preguntas_raw)"
      ],
      "metadata": {
        "id": "msKFhcLbansi"
      },
      "execution_count": 11,
      "outputs": []
    },
    {
      "cell_type": "markdown",
      "source": [
        "##2) Crear el chatbot utilizando TFIDF y similitud del coseno. (1 punto)"
      ],
      "metadata": {
        "id": "YUMgd6vang4X"
      }
    },
    {
      "cell_type": "code",
      "source": [
        "class ChatbotTFIDF:\n",
        "    # Método que se ejecuta al crear el chatbot\n",
        "    def __init__(self, preguntas, respuestas):\n",
        "        self.vectorizer = TfidfVectorizer()  # Crea el vectorizador TF-IDF\n",
        "        self.X = self.vectorizer.fit_transform(preguntas)  # Calcula los vectores TF-IDF de las preguntas\n",
        "        self.respuestas = respuestas  # Guarda la lista de respuestas posibles\n",
        "\n",
        "    # Método para responder una pregunta del usuario\n",
        "    def responder(self, pregunta_usuario):\n",
        "        pregunta_proc = procesar_preguntas([pregunta_usuario])[0]  # Limpia y lematiza la pregunta del usuario\n",
        "        pregunta_vec = self.vectorizer.transform([pregunta_proc])  # Convierte la pregunta a vector TF-IDF\n",
        "        similitudes = cosine_similarity(pregunta_vec, self.X)  # Calcula la similitud entre la pregunta y las preguntas del FAQ\n",
        "        idx = similitudes.argmax()  # Toma el índice de la pregunta más parecida\n",
        "        return self.respuestas[idx]  # Devuelve la respuesta correspondiente\n",
        "\n"
      ],
      "metadata": {
        "id": "G0NMMs9PZ18y"
      },
      "execution_count": 32,
      "outputs": []
    },
    {
      "cell_type": "code",
      "source": [
        "# Ejemplo de uso\n",
        "chatbot_tfidf = ChatbotTFIDF(preguntas_procesadas, respuestas)\n",
        "#print(chatbot_tfidf.responder(\"¿Dónde veo mis calificaciones?\"))\n",
        "print(chatbot_tfidf.responder(\"como me inscribo?\"))\n"
      ],
      "metadata": {
        "colab": {
          "base_uri": "https://localhost:8080/"
        },
        "id": "QeT39kfeakZ8",
        "outputId": "9ca2fdd7-73a5-43d6-f5d8-707091fb033a"
      },
      "execution_count": 23,
      "outputs": [
        {
          "output_type": "stream",
          "name": "stdout",
          "text": [
            "Debés ingresar al sistema de autogestión, ir a la sección 'Materias' y seleccionar 'Inscribirse'.\n"
          ]
        }
      ]
    },
    {
      "cell_type": "markdown",
      "source": [
        "##3) Crear otro chatbot utilizando embeddings. Indique cuál embedding (1 punto) pre-entrenado eligió."
      ],
      "metadata": {
        "id": "wXW7-UHoghNM"
      }
    },
    {
      "cell_type": "code",
      "source": [
        "from sentence_transformers import SentenceTransformer\n",
        "import numpy as np\n",
        "\n",
        "class ChatbotEmbeddings:\n",
        "    # Constructor del chatbot, recibe los datos (pregunta, respuesta)\n",
        "    def __init__(self, data):\n",
        "        self.modelo = SentenceTransformer('all-MiniLM-L6-v2')  # Carga el modelo de embeddings preentrenado\n",
        "        self.preguntas = [item[0] for item in data]  # Extrae todas las preguntas del conjunto de datos\n",
        "        self.respuestas = [item[1] for item in data]  # Extrae todas las respuestas correspondientes\n",
        "        self.embeddings = self.modelo.encode(self.preguntas, convert_to_numpy=True)  # Calcula los embeddings de las preguntas\n",
        "\n",
        "    # Método para responder una pregunta del usuario\n",
        "    def responder(self, pregunta_usuario):\n",
        "        emb_usuario = self.modelo.encode([pregunta_usuario], convert_to_numpy=True)[0]  # Genera el embedding de la pregunta del usuario\n",
        "        # Calcula la similitud del coseno entre la pregunta del usuario y cada pregunta del dataset\n",
        "        similitudes = np.dot(self.embeddings, emb_usuario) / (\n",
        "            np.linalg.norm(self.embeddings, axis=1) * np.linalg.norm(emb_usuario))\n",
        "        idx = np.argmax(similitudes)  # Obtiene el índice de la pregunta más parecida (mayor similitud)\n",
        "        return self.respuestas[idx]  # Devuelve la respuesta correspondiente\n",
        "\n"
      ],
      "metadata": {
        "id": "1RO90iZEgdRB"
      },
      "execution_count": 24,
      "outputs": []
    },
    {
      "cell_type": "code",
      "source": [
        "# Ejemplo de uso\n",
        "chatbot_emb = ChatbotEmbeddings(faq_data)\n",
        "print(chatbot_emb.responder(\"situación académica\"))\n"
      ],
      "metadata": {
        "colab": {
          "base_uri": "https://localhost:8080/"
        },
        "id": "EHNr9NI_guiR",
        "outputId": "cd198f0f-7a3e-404d-e81b-f992353744cf"
      },
      "execution_count": 34,
      "outputs": [
        {
          "output_type": "stream",
          "name": "stdout",
          "text": [
            "Desde 'Historial Académico' podés ver tu situación actual.\n"
          ]
        }
      ]
    },
    {
      "cell_type": "markdown",
      "source": [
        "##4) Muestra ambos chatbots funcionando (1 punto)"
      ],
      "metadata": {
        "id": "ixCSI-aBn8jX"
      }
    },
    {
      "cell_type": "code",
      "source": [
        "preguntas_test = [\n",
        "    \"cómo hago para anotarme en una materia\",\n",
        "    \"dónde puedo revisar mis calificaciones\",\n",
        "    \"cuántas materias se pueden hacer por cuatrimestre\",\n",
        "    \"qué pasa si abandono una materia\",\n",
        "    \"me quiero cambiar de turno, ¿puedo?\",\n",
        "    \"dónde puedo ver mi promedio\",\n",
        "    \"cómo se piden las equivalencias\",\n",
        "    \"me falló el campus virtual, no entra\",\n",
        "    \"cuándo arrancan las inscripciones\",\n",
        "    \"cómo me comunico con un docente\"\n",
        "]\n",
        "\n",
        "\n",
        "def comparar_bots_df(preguntas_usuario, bot_tfidf, bot_emb):\n",
        "    resultados = []\n",
        "    for pregunta in preguntas_usuario:\n",
        "        resp_tfidf = bot_tfidf.responder(pregunta)\n",
        "        resp_emb = bot_emb.responder(pregunta)\n",
        "        resultados.append({\n",
        "            \"Pregunta\": pregunta,\n",
        "            \"Respuesta TF-IDF\": resp_tfidf,\n",
        "            \"Respuesta Embeddings\": resp_emb\n",
        "        })\n",
        "\n",
        "    df_resultados = pd.DataFrame(resultados)\n",
        "    pd.set_option('display.max_colwidth', None)  # <-- mostrar columnas completas\n",
        "    return df_resultados\n"
      ],
      "metadata": {
        "id": "KMR2YFBBoxQL"
      },
      "execution_count": 26,
      "outputs": []
    },
    {
      "cell_type": "markdown",
      "source": [],
      "metadata": {
        "id": "7shQniNjsa7X"
      }
    },
    {
      "cell_type": "code",
      "source": [
        "df_comparacion = comparar_bots_df(preguntas_test,chatbot_tfidf,chatbot_emb)\n",
        "display(df_comparacion)"
      ],
      "metadata": {
        "id": "sEXTIny5saF2",
        "colab": {
          "base_uri": "https://localhost:8080/",
          "height": 363
        },
        "outputId": "1bd5440c-ff37-4310-fb16-0fa6ce3640e8"
      },
      "execution_count": 27,
      "outputs": [
        {
          "output_type": "display_data",
          "data": {
            "text/plain": [
              "                                            Pregunta  \\\n",
              "0             cómo hago para anotarme en una materia   \n",
              "1             dónde puedo revisar mis calificaciones   \n",
              "2  cuántas materias se pueden hacer por cuatrimestre   \n",
              "3                   qué pasa si abandono una materia   \n",
              "4                me quiero cambiar de turno, ¿puedo?   \n",
              "5                        dónde puedo ver mi promedio   \n",
              "6                    cómo se piden las equivalencias   \n",
              "7               me falló el campus virtual, no entra   \n",
              "8                  cuándo arrancan las inscripciones   \n",
              "9                    cómo me comunico con un docente   \n",
              "\n",
              "                                                                                    Respuesta TF-IDF  \\\n",
              "0                        Sí, durante el período de ajuste podés cambiarte de turno desde el sistema.   \n",
              "1  Debés ingresar al sistema de autogestión, ir a la sección 'Materias' y seleccionar 'Inscribirse'.   \n",
              "2                                                    Podés cursar hasta 5 materias por cuatrimestre.   \n",
              "3                                                  Figurarás como ausente y no afectará tu promedio.   \n",
              "4                        Sí, durante el período de ajuste podés cambiarte de turno desde el sistema.   \n",
              "5                        Tu promedio está disponible en el 'Historial Académico' dentro del sistema.   \n",
              "6              Debés completar el formulario de equivalencias y presentarlo con tu plan de estudios.   \n",
              "7                              Contactá a soporte técnico o enviá un mail a soporte@universidad.edu.   \n",
              "8                       Las inscripciones se habilitan una semana antes del inicio del cuatrimestre.   \n",
              "9  Debés ingresar al sistema de autogestión, ir a la sección 'Materias' y seleccionar 'Inscribirse'.   \n",
              "\n",
              "                                                                                Respuesta Embeddings  \n",
              "0  Debés ingresar al sistema de autogestión, ir a la sección 'Materias' y seleccionar 'Inscribirse'.  \n",
              "1              Podés ver tus notas desde el menú 'Historial Académico' en el sistema de autogestión.  \n",
              "2                                                    Podés cursar hasta 5 materias por cuatrimestre.  \n",
              "3                                                  Figurarás como ausente y no afectará tu promedio.  \n",
              "4                        Sí, durante el período de ajuste podés cambiarte de turno desde el sistema.  \n",
              "5                        Tu promedio está disponible en el 'Historial Académico' dentro del sistema.  \n",
              "6              Debés completar el formulario de equivalencias y presentarlo con tu plan de estudios.  \n",
              "7                              Contactá a soporte técnico o enviá un mail a soporte@universidad.edu.  \n",
              "8                       Las inscripciones se habilitan una semana antes del inicio del cuatrimestre.  \n",
              "9                    Podés enviarle un mensaje desde el campus o escribirle a su mail institucional.  "
            ],
            "text/html": [
              "\n",
              "  <div id=\"df-7533c025-6060-4f05-80a0-ead61a857f19\" class=\"colab-df-container\">\n",
              "    <div>\n",
              "<style scoped>\n",
              "    .dataframe tbody tr th:only-of-type {\n",
              "        vertical-align: middle;\n",
              "    }\n",
              "\n",
              "    .dataframe tbody tr th {\n",
              "        vertical-align: top;\n",
              "    }\n",
              "\n",
              "    .dataframe thead th {\n",
              "        text-align: right;\n",
              "    }\n",
              "</style>\n",
              "<table border=\"1\" class=\"dataframe\">\n",
              "  <thead>\n",
              "    <tr style=\"text-align: right;\">\n",
              "      <th></th>\n",
              "      <th>Pregunta</th>\n",
              "      <th>Respuesta TF-IDF</th>\n",
              "      <th>Respuesta Embeddings</th>\n",
              "    </tr>\n",
              "  </thead>\n",
              "  <tbody>\n",
              "    <tr>\n",
              "      <th>0</th>\n",
              "      <td>cómo hago para anotarme en una materia</td>\n",
              "      <td>Sí, durante el período de ajuste podés cambiarte de turno desde el sistema.</td>\n",
              "      <td>Debés ingresar al sistema de autogestión, ir a la sección 'Materias' y seleccionar 'Inscribirse'.</td>\n",
              "    </tr>\n",
              "    <tr>\n",
              "      <th>1</th>\n",
              "      <td>dónde puedo revisar mis calificaciones</td>\n",
              "      <td>Debés ingresar al sistema de autogestión, ir a la sección 'Materias' y seleccionar 'Inscribirse'.</td>\n",
              "      <td>Podés ver tus notas desde el menú 'Historial Académico' en el sistema de autogestión.</td>\n",
              "    </tr>\n",
              "    <tr>\n",
              "      <th>2</th>\n",
              "      <td>cuántas materias se pueden hacer por cuatrimestre</td>\n",
              "      <td>Podés cursar hasta 5 materias por cuatrimestre.</td>\n",
              "      <td>Podés cursar hasta 5 materias por cuatrimestre.</td>\n",
              "    </tr>\n",
              "    <tr>\n",
              "      <th>3</th>\n",
              "      <td>qué pasa si abandono una materia</td>\n",
              "      <td>Figurarás como ausente y no afectará tu promedio.</td>\n",
              "      <td>Figurarás como ausente y no afectará tu promedio.</td>\n",
              "    </tr>\n",
              "    <tr>\n",
              "      <th>4</th>\n",
              "      <td>me quiero cambiar de turno, ¿puedo?</td>\n",
              "      <td>Sí, durante el período de ajuste podés cambiarte de turno desde el sistema.</td>\n",
              "      <td>Sí, durante el período de ajuste podés cambiarte de turno desde el sistema.</td>\n",
              "    </tr>\n",
              "    <tr>\n",
              "      <th>5</th>\n",
              "      <td>dónde puedo ver mi promedio</td>\n",
              "      <td>Tu promedio está disponible en el 'Historial Académico' dentro del sistema.</td>\n",
              "      <td>Tu promedio está disponible en el 'Historial Académico' dentro del sistema.</td>\n",
              "    </tr>\n",
              "    <tr>\n",
              "      <th>6</th>\n",
              "      <td>cómo se piden las equivalencias</td>\n",
              "      <td>Debés completar el formulario de equivalencias y presentarlo con tu plan de estudios.</td>\n",
              "      <td>Debés completar el formulario de equivalencias y presentarlo con tu plan de estudios.</td>\n",
              "    </tr>\n",
              "    <tr>\n",
              "      <th>7</th>\n",
              "      <td>me falló el campus virtual, no entra</td>\n",
              "      <td>Contactá a soporte técnico o enviá un mail a soporte@universidad.edu.</td>\n",
              "      <td>Contactá a soporte técnico o enviá un mail a soporte@universidad.edu.</td>\n",
              "    </tr>\n",
              "    <tr>\n",
              "      <th>8</th>\n",
              "      <td>cuándo arrancan las inscripciones</td>\n",
              "      <td>Las inscripciones se habilitan una semana antes del inicio del cuatrimestre.</td>\n",
              "      <td>Las inscripciones se habilitan una semana antes del inicio del cuatrimestre.</td>\n",
              "    </tr>\n",
              "    <tr>\n",
              "      <th>9</th>\n",
              "      <td>cómo me comunico con un docente</td>\n",
              "      <td>Debés ingresar al sistema de autogestión, ir a la sección 'Materias' y seleccionar 'Inscribirse'.</td>\n",
              "      <td>Podés enviarle un mensaje desde el campus o escribirle a su mail institucional.</td>\n",
              "    </tr>\n",
              "  </tbody>\n",
              "</table>\n",
              "</div>\n",
              "    <div class=\"colab-df-buttons\">\n",
              "\n",
              "  <div class=\"colab-df-container\">\n",
              "    <button class=\"colab-df-convert\" onclick=\"convertToInteractive('df-7533c025-6060-4f05-80a0-ead61a857f19')\"\n",
              "            title=\"Convert this dataframe to an interactive table.\"\n",
              "            style=\"display:none;\">\n",
              "\n",
              "  <svg xmlns=\"http://www.w3.org/2000/svg\" height=\"24px\" viewBox=\"0 -960 960 960\">\n",
              "    <path d=\"M120-120v-720h720v720H120Zm60-500h600v-160H180v160Zm220 220h160v-160H400v160Zm0 220h160v-160H400v160ZM180-400h160v-160H180v160Zm440 0h160v-160H620v160ZM180-180h160v-160H180v160Zm440 0h160v-160H620v160Z\"/>\n",
              "  </svg>\n",
              "    </button>\n",
              "\n",
              "  <style>\n",
              "    .colab-df-container {\n",
              "      display:flex;\n",
              "      gap: 12px;\n",
              "    }\n",
              "\n",
              "    .colab-df-convert {\n",
              "      background-color: #E8F0FE;\n",
              "      border: none;\n",
              "      border-radius: 50%;\n",
              "      cursor: pointer;\n",
              "      display: none;\n",
              "      fill: #1967D2;\n",
              "      height: 32px;\n",
              "      padding: 0 0 0 0;\n",
              "      width: 32px;\n",
              "    }\n",
              "\n",
              "    .colab-df-convert:hover {\n",
              "      background-color: #E2EBFA;\n",
              "      box-shadow: 0px 1px 2px rgba(60, 64, 67, 0.3), 0px 1px 3px 1px rgba(60, 64, 67, 0.15);\n",
              "      fill: #174EA6;\n",
              "    }\n",
              "\n",
              "    .colab-df-buttons div {\n",
              "      margin-bottom: 4px;\n",
              "    }\n",
              "\n",
              "    [theme=dark] .colab-df-convert {\n",
              "      background-color: #3B4455;\n",
              "      fill: #D2E3FC;\n",
              "    }\n",
              "\n",
              "    [theme=dark] .colab-df-convert:hover {\n",
              "      background-color: #434B5C;\n",
              "      box-shadow: 0px 1px 3px 1px rgba(0, 0, 0, 0.15);\n",
              "      filter: drop-shadow(0px 1px 2px rgba(0, 0, 0, 0.3));\n",
              "      fill: #FFFFFF;\n",
              "    }\n",
              "  </style>\n",
              "\n",
              "    <script>\n",
              "      const buttonEl =\n",
              "        document.querySelector('#df-7533c025-6060-4f05-80a0-ead61a857f19 button.colab-df-convert');\n",
              "      buttonEl.style.display =\n",
              "        google.colab.kernel.accessAllowed ? 'block' : 'none';\n",
              "\n",
              "      async function convertToInteractive(key) {\n",
              "        const element = document.querySelector('#df-7533c025-6060-4f05-80a0-ead61a857f19');\n",
              "        const dataTable =\n",
              "          await google.colab.kernel.invokeFunction('convertToInteractive',\n",
              "                                                    [key], {});\n",
              "        if (!dataTable) return;\n",
              "\n",
              "        const docLinkHtml = 'Like what you see? Visit the ' +\n",
              "          '<a target=\"_blank\" href=https://colab.research.google.com/notebooks/data_table.ipynb>data table notebook</a>'\n",
              "          + ' to learn more about interactive tables.';\n",
              "        element.innerHTML = '';\n",
              "        dataTable['output_type'] = 'display_data';\n",
              "        await google.colab.output.renderOutput(dataTable, element);\n",
              "        const docLink = document.createElement('div');\n",
              "        docLink.innerHTML = docLinkHtml;\n",
              "        element.appendChild(docLink);\n",
              "      }\n",
              "    </script>\n",
              "  </div>\n",
              "\n",
              "\n",
              "    <div id=\"df-ebf89c9b-a56c-4d23-b261-b43c63c851ab\">\n",
              "      <button class=\"colab-df-quickchart\" onclick=\"quickchart('df-ebf89c9b-a56c-4d23-b261-b43c63c851ab')\"\n",
              "                title=\"Suggest charts\"\n",
              "                style=\"display:none;\">\n",
              "\n",
              "<svg xmlns=\"http://www.w3.org/2000/svg\" height=\"24px\"viewBox=\"0 0 24 24\"\n",
              "     width=\"24px\">\n",
              "    <g>\n",
              "        <path d=\"M19 3H5c-1.1 0-2 .9-2 2v14c0 1.1.9 2 2 2h14c1.1 0 2-.9 2-2V5c0-1.1-.9-2-2-2zM9 17H7v-7h2v7zm4 0h-2V7h2v10zm4 0h-2v-4h2v4z\"/>\n",
              "    </g>\n",
              "</svg>\n",
              "      </button>\n",
              "\n",
              "<style>\n",
              "  .colab-df-quickchart {\n",
              "      --bg-color: #E8F0FE;\n",
              "      --fill-color: #1967D2;\n",
              "      --hover-bg-color: #E2EBFA;\n",
              "      --hover-fill-color: #174EA6;\n",
              "      --disabled-fill-color: #AAA;\n",
              "      --disabled-bg-color: #DDD;\n",
              "  }\n",
              "\n",
              "  [theme=dark] .colab-df-quickchart {\n",
              "      --bg-color: #3B4455;\n",
              "      --fill-color: #D2E3FC;\n",
              "      --hover-bg-color: #434B5C;\n",
              "      --hover-fill-color: #FFFFFF;\n",
              "      --disabled-bg-color: #3B4455;\n",
              "      --disabled-fill-color: #666;\n",
              "  }\n",
              "\n",
              "  .colab-df-quickchart {\n",
              "    background-color: var(--bg-color);\n",
              "    border: none;\n",
              "    border-radius: 50%;\n",
              "    cursor: pointer;\n",
              "    display: none;\n",
              "    fill: var(--fill-color);\n",
              "    height: 32px;\n",
              "    padding: 0;\n",
              "    width: 32px;\n",
              "  }\n",
              "\n",
              "  .colab-df-quickchart:hover {\n",
              "    background-color: var(--hover-bg-color);\n",
              "    box-shadow: 0 1px 2px rgba(60, 64, 67, 0.3), 0 1px 3px 1px rgba(60, 64, 67, 0.15);\n",
              "    fill: var(--button-hover-fill-color);\n",
              "  }\n",
              "\n",
              "  .colab-df-quickchart-complete:disabled,\n",
              "  .colab-df-quickchart-complete:disabled:hover {\n",
              "    background-color: var(--disabled-bg-color);\n",
              "    fill: var(--disabled-fill-color);\n",
              "    box-shadow: none;\n",
              "  }\n",
              "\n",
              "  .colab-df-spinner {\n",
              "    border: 2px solid var(--fill-color);\n",
              "    border-color: transparent;\n",
              "    border-bottom-color: var(--fill-color);\n",
              "    animation:\n",
              "      spin 1s steps(1) infinite;\n",
              "  }\n",
              "\n",
              "  @keyframes spin {\n",
              "    0% {\n",
              "      border-color: transparent;\n",
              "      border-bottom-color: var(--fill-color);\n",
              "      border-left-color: var(--fill-color);\n",
              "    }\n",
              "    20% {\n",
              "      border-color: transparent;\n",
              "      border-left-color: var(--fill-color);\n",
              "      border-top-color: var(--fill-color);\n",
              "    }\n",
              "    30% {\n",
              "      border-color: transparent;\n",
              "      border-left-color: var(--fill-color);\n",
              "      border-top-color: var(--fill-color);\n",
              "      border-right-color: var(--fill-color);\n",
              "    }\n",
              "    40% {\n",
              "      border-color: transparent;\n",
              "      border-right-color: var(--fill-color);\n",
              "      border-top-color: var(--fill-color);\n",
              "    }\n",
              "    60% {\n",
              "      border-color: transparent;\n",
              "      border-right-color: var(--fill-color);\n",
              "    }\n",
              "    80% {\n",
              "      border-color: transparent;\n",
              "      border-right-color: var(--fill-color);\n",
              "      border-bottom-color: var(--fill-color);\n",
              "    }\n",
              "    90% {\n",
              "      border-color: transparent;\n",
              "      border-bottom-color: var(--fill-color);\n",
              "    }\n",
              "  }\n",
              "</style>\n",
              "\n",
              "      <script>\n",
              "        async function quickchart(key) {\n",
              "          const quickchartButtonEl =\n",
              "            document.querySelector('#' + key + ' button');\n",
              "          quickchartButtonEl.disabled = true;  // To prevent multiple clicks.\n",
              "          quickchartButtonEl.classList.add('colab-df-spinner');\n",
              "          try {\n",
              "            const charts = await google.colab.kernel.invokeFunction(\n",
              "                'suggestCharts', [key], {});\n",
              "          } catch (error) {\n",
              "            console.error('Error during call to suggestCharts:', error);\n",
              "          }\n",
              "          quickchartButtonEl.classList.remove('colab-df-spinner');\n",
              "          quickchartButtonEl.classList.add('colab-df-quickchart-complete');\n",
              "        }\n",
              "        (() => {\n",
              "          let quickchartButtonEl =\n",
              "            document.querySelector('#df-ebf89c9b-a56c-4d23-b261-b43c63c851ab button');\n",
              "          quickchartButtonEl.style.display =\n",
              "            google.colab.kernel.accessAllowed ? 'block' : 'none';\n",
              "        })();\n",
              "      </script>\n",
              "    </div>\n",
              "\n",
              "  <div id=\"id_1b17f3b2-be1c-450d-a318-ef14c15a9977\">\n",
              "    <style>\n",
              "      .colab-df-generate {\n",
              "        background-color: #E8F0FE;\n",
              "        border: none;\n",
              "        border-radius: 50%;\n",
              "        cursor: pointer;\n",
              "        display: none;\n",
              "        fill: #1967D2;\n",
              "        height: 32px;\n",
              "        padding: 0 0 0 0;\n",
              "        width: 32px;\n",
              "      }\n",
              "\n",
              "      .colab-df-generate:hover {\n",
              "        background-color: #E2EBFA;\n",
              "        box-shadow: 0px 1px 2px rgba(60, 64, 67, 0.3), 0px 1px 3px 1px rgba(60, 64, 67, 0.15);\n",
              "        fill: #174EA6;\n",
              "      }\n",
              "\n",
              "      [theme=dark] .colab-df-generate {\n",
              "        background-color: #3B4455;\n",
              "        fill: #D2E3FC;\n",
              "      }\n",
              "\n",
              "      [theme=dark] .colab-df-generate:hover {\n",
              "        background-color: #434B5C;\n",
              "        box-shadow: 0px 1px 3px 1px rgba(0, 0, 0, 0.15);\n",
              "        filter: drop-shadow(0px 1px 2px rgba(0, 0, 0, 0.3));\n",
              "        fill: #FFFFFF;\n",
              "      }\n",
              "    </style>\n",
              "    <button class=\"colab-df-generate\" onclick=\"generateWithVariable('df_comparacion')\"\n",
              "            title=\"Generate code using this dataframe.\"\n",
              "            style=\"display:none;\">\n",
              "\n",
              "  <svg xmlns=\"http://www.w3.org/2000/svg\" height=\"24px\"viewBox=\"0 0 24 24\"\n",
              "       width=\"24px\">\n",
              "    <path d=\"M7,19H8.4L18.45,9,17,7.55,7,17.6ZM5,21V16.75L18.45,3.32a2,2,0,0,1,2.83,0l1.4,1.43a1.91,1.91,0,0,1,.58,1.4,1.91,1.91,0,0,1-.58,1.4L9.25,21ZM18.45,9,17,7.55Zm-12,3A5.31,5.31,0,0,0,4.9,8.1,5.31,5.31,0,0,0,1,6.5,5.31,5.31,0,0,0,4.9,4.9,5.31,5.31,0,0,0,6.5,1,5.31,5.31,0,0,0,8.1,4.9,5.31,5.31,0,0,0,12,6.5,5.46,5.46,0,0,0,6.5,12Z\"/>\n",
              "  </svg>\n",
              "    </button>\n",
              "    <script>\n",
              "      (() => {\n",
              "      const buttonEl =\n",
              "        document.querySelector('#id_1b17f3b2-be1c-450d-a318-ef14c15a9977 button.colab-df-generate');\n",
              "      buttonEl.style.display =\n",
              "        google.colab.kernel.accessAllowed ? 'block' : 'none';\n",
              "\n",
              "      buttonEl.onclick = () => {\n",
              "        google.colab.notebook.generateWithVariable('df_comparacion');\n",
              "      }\n",
              "      })();\n",
              "    </script>\n",
              "  </div>\n",
              "\n",
              "    </div>\n",
              "  </div>\n"
            ],
            "application/vnd.google.colaboratory.intrinsic+json": {
              "type": "dataframe",
              "variable_name": "df_comparacion",
              "summary": "{\n  \"name\": \"df_comparacion\",\n  \"rows\": 10,\n  \"fields\": [\n    {\n      \"column\": \"Pregunta\",\n      \"properties\": {\n        \"dtype\": \"string\",\n        \"num_unique_values\": 10,\n        \"samples\": [\n          \"cu\\u00e1ndo arrancan las inscripciones\",\n          \"d\\u00f3nde puedo revisar mis calificaciones\",\n          \"d\\u00f3nde puedo ver mi promedio\"\n        ],\n        \"semantic_type\": \"\",\n        \"description\": \"\"\n      }\n    },\n    {\n      \"column\": \"Respuesta TF-IDF\",\n      \"properties\": {\n        \"dtype\": \"string\",\n        \"num_unique_values\": 8,\n        \"samples\": [\n          \"Deb\\u00e9s ingresar al sistema de autogesti\\u00f3n, ir a la secci\\u00f3n 'Materias' y seleccionar 'Inscribirse'.\",\n          \"Deb\\u00e9s completar el formulario de equivalencias y presentarlo con tu plan de estudios.\",\n          \"S\\u00ed, durante el per\\u00edodo de ajuste pod\\u00e9s cambiarte de turno desde el sistema.\"\n        ],\n        \"semantic_type\": \"\",\n        \"description\": \"\"\n      }\n    },\n    {\n      \"column\": \"Respuesta Embeddings\",\n      \"properties\": {\n        \"dtype\": \"string\",\n        \"num_unique_values\": 10,\n        \"samples\": [\n          \"Las inscripciones se habilitan una semana antes del inicio del cuatrimestre.\",\n          \"Pod\\u00e9s ver tus notas desde el men\\u00fa 'Historial Acad\\u00e9mico' en el sistema de autogesti\\u00f3n.\",\n          \"Tu promedio est\\u00e1 disponible en el 'Historial Acad\\u00e9mico' dentro del sistema.\"\n        ],\n        \"semantic_type\": \"\",\n        \"description\": \"\"\n      }\n    }\n  ]\n}"
            }
          },
          "metadata": {}
        }
      ]
    },
    {
      "cell_type": "markdown",
      "source": [],
      "metadata": {
        "id": "-Vr3wz0gn00K"
      }
    },
    {
      "cell_type": "markdown",
      "source": [
        "##5) Añade tus conclusiones de todo lo realizado (2 punto)\n"
      ],
      "metadata": {
        "id": "34kWx2lfseXO"
      }
    },
    {
      "cell_type": "markdown",
      "source": [
        "\n",
        "### Conclusión\n",
        "\n",
        "El chatbot basado en embeddings ofrece mejores resultados que el de TF-IDF cuando la redacción de las preguntas cambia, ya que entiende mejor el significado general. En cambio, TF-IDF funciona bien solo si la pregunta del usuario se parece mucho a la original. Por eso, embeddings es más útil para situaciones reales donde las personas no escriben siempre de forma exacta.\n",
        "\n",
        "---\n",
        "\n"
      ],
      "metadata": {
        "id": "Jz0osUWgvTwl"
      }
    },
    {
      "cell_type": "markdown",
      "source": [
        "### Fuentes\n",
        "\n",
        "- Apuntes de clase proporcionados por el docente de la materia.\n",
        "- Asistencia de ChatGPT (modelo de lenguaje de OpenAI) para comprensión de código, explicaciones teóricas y comentarios en Python.\n"
      ],
      "metadata": {
        "id": "fC1fEmXuh5i6"
      }
    }
  ]
}