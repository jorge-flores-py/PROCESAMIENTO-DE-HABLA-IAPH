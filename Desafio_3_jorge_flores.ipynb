{
  "cells": [
    {
      "cell_type": "markdown",
      "metadata": {
        "id": "view-in-github",
        "colab_type": "text"
      },
      "source": [
        "<a href=\"https://colab.research.google.com/github/jorge-flores-py/PROCESAMIENTO-DE-HABLA-IAPH/blob/main/Desafio_3_jorge_flores.ipynb\" target=\"_parent\"><img src=\"https://colab.research.google.com/assets/colab-badge.svg\" alt=\"Open In Colab\"/></a>"
      ]
    },
    {
      "cell_type": "markdown",
      "metadata": {
        "id": "zq6j8LsYq1Dr"
      },
      "source": [
        "### Vectorización de texto y modelo de clasificación Naïve Bayes con el dataset 20 newsgroups"
      ]
    },
    {
      "cell_type": "code",
      "execution_count": null,
      "metadata": {
        "id": "l7cXR6CI30ry"
      },
      "outputs": [],
      "source": [
        "from sklearn.feature_extraction.text import CountVectorizer, TfidfVectorizer\n",
        "from sklearn.metrics.pairwise import cosine_similarity\n",
        "from sklearn.naive_bayes import MultinomialNB, ComplementNB\n",
        "from sklearn.metrics import f1_score\n",
        "\n",
        "# 20newsgroups por ser un dataset clásico de NLP ya viene incluido y formateado\n",
        "# en sklearn\n",
        "from sklearn.datasets import fetch_20newsgroups\n",
        "import numpy as np"
      ]
    },
    {
      "cell_type": "markdown",
      "metadata": {
        "id": "yD-pVDWV_rQc"
      },
      "source": [
        "## Carga de datos"
      ]
    },
    {
      "cell_type": "code",
      "execution_count": null,
      "metadata": {
        "id": "Ech9qJaUo9vK"
      },
      "outputs": [],
      "source": [
        "# cargamos los datos (ya separados de forma predeterminada en train y test)\n",
        "newsgroups_train = fetch_20newsgroups(subset='train', remove=('headers', 'footers', 'quotes'))\n",
        "newsgroups_test = fetch_20newsgroups(subset='test', remove=('headers', 'footers', 'quotes'))"
      ]
    },
    {
      "cell_type": "markdown",
      "metadata": {
        "id": "UxjSI7su_uWI"
      },
      "source": [
        "## Vectorización"
      ]
    },
    {
      "cell_type": "code",
      "execution_count": null,
      "metadata": {
        "id": "-94VP0QYCzDn"
      },
      "outputs": [],
      "source": [
        "# instanciamos un vectorizador\n",
        "# ver diferentes parámetros de instanciación en la documentación de sklearn\n",
        "tfidfvect = TfidfVectorizer()"
      ]
    },
    {
      "cell_type": "code",
      "execution_count": null,
      "metadata": {
        "colab": {
          "base_uri": "https://localhost:8080/",
          "height": 91
        },
        "id": "ftPlyanuak8n",
        "outputId": "fa5c5074-b5cf-481d-8503-126846b0bb97"
      },
      "outputs": [
        {
          "output_type": "execute_result",
          "data": {
            "text/plain": [
              "'I was wondering if anyone out there could enlighten me on this car I saw\\nthe other day. It was a 2-door sports car, looked to be from the late 60s/\\nearly 70s. It was called a Bricklin. The doors were really small. In addition,\\nthe front bumper was separate from the rest of the body. This is \\nall I know. If anyone can tellme a model name, engine specs, years\\nof production, where this car is made, history, or whatever info you\\nhave on this funky looking car, please e-mail.'"
            ],
            "application/vnd.google.colaboratory.intrinsic+json": {
              "type": "string"
            }
          },
          "metadata": {},
          "execution_count": 4
        }
      ],
      "source": [
        "# en el atributo `data` accedemos al texto\n",
        "newsgroups_train.data[0]"
      ]
    },
    {
      "cell_type": "code",
      "execution_count": null,
      "metadata": {
        "id": "1zxcXV6aC_oL"
      },
      "outputs": [],
      "source": [
        "# con la interfaz habitual de sklearn podemos fitear el vectorizador\n",
        "# (obtener el vocabulario y calcular el vector IDF)\n",
        "# y transformar directamente los datos\n",
        "X_train = tfidfvect.fit_transform(newsgroups_train.data)\n",
        "# `X_train` la podemos denominar como la matriz documento-término"
      ]
    },
    {
      "cell_type": "code",
      "execution_count": null,
      "metadata": {
        "colab": {
          "base_uri": "https://localhost:8080/"
        },
        "id": "4Sv7TXbda41-",
        "outputId": "02551ee8-33cd-4516-d6b5-2e370d72d5a8"
      },
      "outputs": [
        {
          "output_type": "stream",
          "name": "stdout",
          "text": [
            "<class 'scipy.sparse._csr.csr_matrix'>\n",
            "shape: (11314, 101631)\n",
            "cantidad de documentos: 11314\n",
            "tamaño del vocabulario (dimensionalidad de los vectores): 101631\n"
          ]
        }
      ],
      "source": [
        "# recordar que las vectorizaciones por conteos son esparsas\n",
        "# por ello sklearn convenientemente devuelve los vectores de documentos\n",
        "# como matrices esparsas\n",
        "print(type(X_train))\n",
        "print(f'shape: {X_train.shape}')\n",
        "print(f'cantidad de documentos: {X_train.shape[0]}')\n",
        "print(f'tamaño del vocabulario (dimensionalidad de los vectores): {X_train.shape[1]}')"
      ]
    },
    {
      "cell_type": "code",
      "execution_count": null,
      "metadata": {
        "colab": {
          "base_uri": "https://localhost:8080/"
        },
        "id": "dgydNTZ2pAgR",
        "outputId": "6e6d9f0b-9b30-486e-9523-4ce6b698b7dc"
      },
      "outputs": [
        {
          "output_type": "execute_result",
          "data": {
            "text/plain": [
              "25775"
            ]
          },
          "metadata": {},
          "execution_count": 7
        }
      ],
      "source": [
        "# una vez ajustado el vectorizador, podemos acceder a atributos como el vocabulario\n",
        "# aprendido. Es un diccionario que va de términos a índices.\n",
        "# El índice es la posición en el vector de documento.\n",
        "tfidfvect.vocabulary_['car']"
      ]
    },
    {
      "cell_type": "code",
      "execution_count": null,
      "metadata": {
        "id": "xnTSZuvyrTcP"
      },
      "outputs": [],
      "source": [
        "# es muy útil tener el diccionario opuesto que va de índices a términos\n",
        "idx2word = {v: k for k,v in tfidfvect.vocabulary_.items()}"
      ]
    },
    {
      "cell_type": "code",
      "execution_count": null,
      "metadata": {
        "colab": {
          "base_uri": "https://localhost:8080/"
        },
        "id": "swa-AgWrMSHM",
        "outputId": "471ef922-387c-46fd-de3c-3735b57c096b"
      },
      "outputs": [
        {
          "output_type": "execute_result",
          "data": {
            "text/plain": [
              "array([ 7,  4,  4,  1, 14, 16, 13,  3,  2,  4])"
            ]
          },
          "metadata": {},
          "execution_count": 9
        }
      ],
      "source": [
        "# en `y_train` guardamos los targets que son enteros\n",
        "y_train = newsgroups_train.target\n",
        "y_train[:10]"
      ]
    },
    {
      "cell_type": "code",
      "execution_count": null,
      "metadata": {
        "colab": {
          "base_uri": "https://localhost:8080/"
        },
        "id": "je5kxvQMDLvf",
        "outputId": "9eb2fa9d-16ea-412d-aa8a-192cea8a6210"
      },
      "outputs": [
        {
          "output_type": "stream",
          "name": "stdout",
          "text": [
            "clases [ 0  1  2  3  4  5  6  7  8  9 10 11 12 13 14 15 16 17 18 19]\n"
          ]
        },
        {
          "output_type": "execute_result",
          "data": {
            "text/plain": [
              "['alt.atheism',\n",
              " 'comp.graphics',\n",
              " 'comp.os.ms-windows.misc',\n",
              " 'comp.sys.ibm.pc.hardware',\n",
              " 'comp.sys.mac.hardware',\n",
              " 'comp.windows.x',\n",
              " 'misc.forsale',\n",
              " 'rec.autos',\n",
              " 'rec.motorcycles',\n",
              " 'rec.sport.baseball',\n",
              " 'rec.sport.hockey',\n",
              " 'sci.crypt',\n",
              " 'sci.electronics',\n",
              " 'sci.med',\n",
              " 'sci.space',\n",
              " 'soc.religion.christian',\n",
              " 'talk.politics.guns',\n",
              " 'talk.politics.mideast',\n",
              " 'talk.politics.misc',\n",
              " 'talk.religion.misc']"
            ]
          },
          "metadata": {},
          "execution_count": 10
        }
      ],
      "source": [
        "# hay 20 clases correspondientes a los 20 grupos de noticias\n",
        "print(f'clases {np.unique(newsgroups_test.target)}')\n",
        "newsgroups_test.target_names"
      ]
    },
    {
      "cell_type": "markdown",
      "metadata": {
        "id": "SXCICFSd_y90"
      },
      "source": [
        "## Similaridad de documentos"
      ]
    },
    {
      "cell_type": "code",
      "execution_count": null,
      "metadata": {
        "colab": {
          "base_uri": "https://localhost:8080/"
        },
        "id": "_pki_olShnyE",
        "outputId": "89817e8b-7cc4-4313-abc0-91c5796f4e58"
      },
      "outputs": [
        {
          "output_type": "stream",
          "name": "stdout",
          "text": [
            "THE WHITE HOUSE\n",
            "\n",
            "                  Office of the Press Secretary\n",
            "                   (Pittsburgh, Pennslyvania)\n",
            "______________________________________________________________\n",
            "For Immediate Release                         April 17, 1993     \n",
            "\n",
            "             \n",
            "                  RADIO ADDRESS TO THE NATION \n",
            "                        BY THE PRESIDENT\n",
            "             \n",
            "                Pittsburgh International Airport\n",
            "                    Pittsburgh, Pennsylvania\n",
            "             \n",
            "             \n",
            "10:06 A.M. EDT\n",
            "             \n",
            "             \n",
            "             THE PRESIDENT:  Good morning.  My voice is coming to\n",
            "you this morning through the facilities of the oldest radio\n",
            "station in America, KDKA in Pittsburgh.  I'm visiting the city to\n",
            "meet personally with citizens here to discuss my plans for jobs,\n",
            "health care and the economy.  But I wanted first to do my weekly\n",
            "broadcast with the American people. \n",
            "             \n",
            "             I'm told this station first broadcast in 1920 when\n",
            "it reported that year's presidential elections.  Over the past\n",
            "seven decades presidents have found ways to keep in touch with\n",
            "the people, from whistle-stop tours to fire-side chats to the bus\n",
            "tour that I adopted, along with Vice President Gore, in last\n",
            "year's campaign.\n",
            "             \n",
            "             Every Saturday morning I take this time to talk with\n",
            "you, my fellow Americans, about the problems on your minds and\n",
            "what I'm doing to try and solve them.  It's my way of reporting\n",
            "to you and of giving you a way to hold me accountable.\n",
            "             \n",
            "             You sent me to Washington to get our government and\n",
            "economy moving after years of paralysis and policy and a bad\n",
            "experiment with trickle-down economics.  You know how important\n",
            "it is for us to make bold, comprehensive changes in the way we do\n",
            "business.  \n",
            "             \n",
            "             We live in a competitive global economy.  Nations\n",
            "rise and fall on the skills of their workers, the competitiveness\n",
            "of their companies, the imagination of their industries, and the\n",
            "cooperative experience and spirit that exists between business,\n",
            "labor and government.  Although many of the economies of the\n",
            "industrialized world are now suffering from slow growth, they've\n",
            "made many of the smart investments and the tough choices which\n",
            "our government has for too long ignored.  That's why many of them\n",
            "have been moving ahead and too many of our people have been\n",
            "falling behind.\n",
            "             \n",
            "             We have an economy today that even when it grows is\n",
            "not producing new jobs.  We've increased the debt of our nation\n",
            "by four times over the last 12 years, and we don't have much to\n",
            "show for it.  We know that wages of most working people have\n",
            "stopped rising, that most people are working longer work weeks\n",
            "and that too many families can no longer afford the escalating\n",
            "cost of health care.\n",
            "             \n",
            "             But we also know that, given the right tools, the\n",
            "right incentives and the right encouragement, our workers and\n",
            "businesses can make the kinds of products and profits our economy\n",
            "needs to expand opportunity and to make our communities better\n",
            "places to live.\n",
            "             \n",
            "             In many critical products today Americans are the\n",
            "low cost, high quality producers.  Our task is to make sure that\n",
            "we create more of those kinds of jobs.\n",
            "             \n",
            "             Just two months ago I gave Congress my plan for\n",
            "long-term jobs and economic growth.  It changes the old\n",
            "priorities in Washington and puts our emphasis where it needs to\n",
            "be -- on people's real needs, on increasing investments and jobs\n",
            "and education, on cutting the federal deficit, on stopping the\n",
            "waste which pays no dividends, and redirecting our precious\n",
            "resources toward investment that creates jobs now and lays the\n",
            "groundwork for robust economic growth in the future.\n",
            "             \n",
            "             These new directions passed the Congress in record\n",
            "time and created a new sense of hope and opportunity in our\n",
            "country.  Then the jobs plan I presented to Congress, which would\n",
            "create hundreds of thousands of jobs, most of them in the private\n",
            "sector in 1993 and 1994, passed the House of Representatives.  It\n",
            "now has the support of a majority of the United States Senate. \n",
            "But it's been held up by a filibuster of a minority in the\n",
            "Senate, just 43 senators.  They blocked a vote that they know\n",
            "would result in the passage of our bill and the creation of jobs.\n",
            "             \n",
            "             The issue isn't politics; the issue is people. \n",
            "Millions of Americans are waiting for this legislation and\n",
            "counting on it, counting on us in Washington.  But the jobs bill\n",
            "has been grounded by gridlock.  \n",
            "             \n",
            "             I know the American people are tired of business as\n",
            "usual and politics as usual.  I know they don't want us to spin\n",
            "or wheels.  They want the recovery to get moving.  So I have\n",
            "taken a first step to break this gridlock and gone the extra\n",
            "mile.  Yesterday I offered to cut the size of this plan by 25\n",
            "percent -- from $16 billion to $12 billion.  \n",
            "             \n",
            "             It's not what I'd hoped for.  With 16 million\n",
            "Americans looking for full-time work, I simply can't let the bill\n",
            "languish when I know that even a compromise bill will mean\n",
            "hundreds of thousands of jobs for our people.  The mandate is to\n",
            "act to achieve change and move the country forward.  By taking\n",
            "this initiative in the face of an unrelenting Senate talkathon, I\n",
            "think we can respond to your mandate and achieve a significant\n",
            "portion of our original goals.\n",
            "             \n",
            "             First, we want to keep the programs as much as\n",
            "possible that are needed to generate jobs and meet human needs,\n",
            "including highway and road construction, summer jobs for young\n",
            "people, immunization for children, construction of waste water\n",
            "sites, and aid to small businesses.  We also want to keep funding\n",
            "for extended unemployment compensation benefits, for people who\n",
            "have been unemployed for a long time because the economy isn't\n",
            "creating jobs.\n",
            "             \n",
            "             Second, I've recommended that all the other programs\n",
            "in the bill be cut across-the-board by a little more than 40\n",
            "percent.\n",
            "             \n",
            "             And third, I've recommended a new element in this\n",
            "program to help us immediately start our attempt to fight against\n",
            "crime by providing $200 million for cities and towns to rehire\n",
            "police officers who lost their jobs during the recession and put\n",
            "them back to work protecting our people.  I'm also going to fight\n",
            "for a tough crime bill because the people of this country need it\n",
            "and deserve it.\n",
            "             \n",
            "             Now, the people who are filibustering this bill --\n",
            "the Republican senators -- say they won't vote for it because it\n",
            "increases deficit spending, because there's extra spending this\n",
            "year that hasn't already been approved.  That sounds reasonable,\n",
            "doesn't it?  Here's what they don't say.  This program is more\n",
            "than paid for by budget cuts over my five-year budget, and this\n",
            "budget is well within the spending limits already approved by the\n",
            "Congress this year.\n",
            "             \n",
            "             It's amazing to me that many of these same senators\n",
            "who are filibustering the bill voted during the previous\n",
            "administration for billions of dollars of the same kind of\n",
            "emergency spending, and much of it was not designed to put the\n",
            "American people to work.  \n",
            "             \n",
            "             This is not about deficit spending.  We have offered\n",
            "a plan to cut the deficit.  This is about where your priorities\n",
            "are -- on people or on politics.  \n",
            "             \n",
            "             Keep in mind that our jobs bill is paid for dollar\n",
            "for dollar.  It is paid for by budget cuts.  And it's the\n",
            "soundest investment we can now make for ourselves and our\n",
            "children.  I urge all Americans to take another look at this jobs\n",
            "and investment program; to consider again the benefits for all of\n",
            "us when we've helped make more American partners working to\n",
            "ensure the future of our nation and the strength of our economy.\n",
            "             \n",
            "             You know, if every American who wanted a job had\n",
            "one, we wouldn't have a lot of the other problems we have in this\n",
            "country today.  This bill is not a miracle, it's a modest first\n",
            "step to try to set off a job creation explosion in this country\n",
            "again.  But it's a step we ought to take.  And it is fully paid\n",
            "for over the life of our budget.\n",
            "             \n",
            "             Tell your lawmakers what you think.  Tell them how\n",
            "important the bill is.  If it passes, we'll all be winners.\n",
            "             \n",
            "             Good morning, and thank you for listening.\n"
          ]
        }
      ],
      "source": [
        "# Veamos similaridad de documentos. Tomemos algún documento\n",
        "idx = 4811\n",
        "print(newsgroups_train.data[idx])"
      ]
    },
    {
      "cell_type": "code",
      "execution_count": null,
      "metadata": {
        "id": "Ssa9bqJ-hA_v"
      },
      "outputs": [],
      "source": [
        "# midamos la similaridad coseno con todos los documentos de train\n",
        "cossim = cosine_similarity(X_train[idx], X_train)[0]"
      ]
    },
    {
      "cell_type": "code",
      "source": [
        "cossim"
      ],
      "metadata": {
        "id": "qQWdijV_-ClO",
        "outputId": "abce49b6-e4e3-4901-f6d6-c2bfe00f9afd",
        "colab": {
          "base_uri": "https://localhost:8080/"
        }
      },
      "execution_count": null,
      "outputs": [
        {
          "output_type": "execute_result",
          "data": {
            "text/plain": [
              "array([0.1382319 , 0.1067036 , 0.23029327, ..., 0.12320753, 0.08765353,\n",
              "       0.04415046])"
            ]
          },
          "metadata": {},
          "execution_count": 21
        }
      ]
    },
    {
      "cell_type": "code",
      "execution_count": null,
      "metadata": {
        "colab": {
          "base_uri": "https://localhost:8080/"
        },
        "id": "p_mDA7p3AzcQ",
        "outputId": "9cf1f0c0-a457-4727-d4c6-04b7caf98b34"
      },
      "outputs": [
        {
          "output_type": "execute_result",
          "data": {
            "text/plain": [
              "array([1.        , 0.70930477, 0.67474953, ..., 0.        , 0.        ,\n",
              "       0.        ])"
            ]
          },
          "metadata": {},
          "execution_count": 13
        }
      ],
      "source": [
        "# podemos ver los valores de similaridad ordenados de mayor a menos\n",
        "np.sort(cossim)[::-1]"
      ]
    },
    {
      "cell_type": "code",
      "execution_count": null,
      "metadata": {
        "colab": {
          "base_uri": "https://localhost:8080/"
        },
        "id": "0OIhDA1jAryX",
        "outputId": "9f476632-1133-4ea4-ae17-ab35f2be239a"
      },
      "outputs": [
        {
          "output_type": "execute_result",
          "data": {
            "text/plain": [
              "array([ 4811,  6635,  4253, ...,  1534, 10055,  4750])"
            ]
          },
          "metadata": {},
          "execution_count": 14
        }
      ],
      "source": [
        "# y a qué documentos corresponden\n",
        "np.argsort(cossim)[::-1]"
      ]
    },
    {
      "cell_type": "code",
      "execution_count": null,
      "metadata": {
        "id": "hP7qLS4ZBLps"
      },
      "outputs": [],
      "source": [
        "# los 5 documentos más similares:\n",
        "mostsim = np.argsort(cossim)[::-1][1:6]"
      ]
    },
    {
      "cell_type": "code",
      "execution_count": null,
      "metadata": {
        "colab": {
          "base_uri": "https://localhost:8080/",
          "height": 36
        },
        "id": "QdJLHPJACvaj",
        "outputId": "7c07b8fe-8b91-4a2f-a53d-518901d6f035"
      },
      "outputs": [
        {
          "output_type": "execute_result",
          "data": {
            "text/plain": [
              "'talk.politics.misc'"
            ],
            "application/vnd.google.colaboratory.intrinsic+json": {
              "type": "string"
            }
          },
          "metadata": {},
          "execution_count": 16
        }
      ],
      "source": [
        "# el documento original pertenece a la clase:\n",
        "newsgroups_train.target_names[y_train[idx]]"
      ]
    },
    {
      "cell_type": "code",
      "execution_count": null,
      "metadata": {
        "colab": {
          "base_uri": "https://localhost:8080/"
        },
        "id": "RWy_73epCbFG",
        "outputId": "988c0921-ad10-4bdb-afff-d7aa0ac88f9d"
      },
      "outputs": [
        {
          "output_type": "stream",
          "name": "stdout",
          "text": [
            "talk.politics.misc\n",
            "talk.politics.misc\n",
            "talk.politics.misc\n",
            "talk.politics.misc\n",
            "talk.politics.misc\n"
          ]
        }
      ],
      "source": [
        "# y los 5 más similares son de las clases:\n",
        "for i in mostsim:\n",
        "  print(newsgroups_train.target_names[y_train[i]])"
      ]
    },
    {
      "cell_type": "markdown",
      "metadata": {
        "id": "zRoNnKwhBqzq"
      },
      "source": [
        "### Modelo de clasificación Naïve Bayes"
      ]
    },
    {
      "cell_type": "code",
      "execution_count": null,
      "metadata": {
        "colab": {
          "base_uri": "https://localhost:8080/",
          "height": 74
        },
        "id": "TPM0thDaLk0R",
        "outputId": "44bb12bd-bfed-460c-b822-cc9059589e1c"
      },
      "outputs": [
        {
          "output_type": "execute_result",
          "data": {
            "text/plain": [
              "MultinomialNB()"
            ],
            "text/html": [
              "<style>#sk-container-id-1 {color: black;}#sk-container-id-1 pre{padding: 0;}#sk-container-id-1 div.sk-toggleable {background-color: white;}#sk-container-id-1 label.sk-toggleable__label {cursor: pointer;display: block;width: 100%;margin-bottom: 0;padding: 0.3em;box-sizing: border-box;text-align: center;}#sk-container-id-1 label.sk-toggleable__label-arrow:before {content: \"▸\";float: left;margin-right: 0.25em;color: #696969;}#sk-container-id-1 label.sk-toggleable__label-arrow:hover:before {color: black;}#sk-container-id-1 div.sk-estimator:hover label.sk-toggleable__label-arrow:before {color: black;}#sk-container-id-1 div.sk-toggleable__content {max-height: 0;max-width: 0;overflow: hidden;text-align: left;background-color: #f0f8ff;}#sk-container-id-1 div.sk-toggleable__content pre {margin: 0.2em;color: black;border-radius: 0.25em;background-color: #f0f8ff;}#sk-container-id-1 input.sk-toggleable__control:checked~div.sk-toggleable__content {max-height: 200px;max-width: 100%;overflow: auto;}#sk-container-id-1 input.sk-toggleable__control:checked~label.sk-toggleable__label-arrow:before {content: \"▾\";}#sk-container-id-1 div.sk-estimator input.sk-toggleable__control:checked~label.sk-toggleable__label {background-color: #d4ebff;}#sk-container-id-1 div.sk-label input.sk-toggleable__control:checked~label.sk-toggleable__label {background-color: #d4ebff;}#sk-container-id-1 input.sk-hidden--visually {border: 0;clip: rect(1px 1px 1px 1px);clip: rect(1px, 1px, 1px, 1px);height: 1px;margin: -1px;overflow: hidden;padding: 0;position: absolute;width: 1px;}#sk-container-id-1 div.sk-estimator {font-family: monospace;background-color: #f0f8ff;border: 1px dotted black;border-radius: 0.25em;box-sizing: border-box;margin-bottom: 0.5em;}#sk-container-id-1 div.sk-estimator:hover {background-color: #d4ebff;}#sk-container-id-1 div.sk-parallel-item::after {content: \"\";width: 100%;border-bottom: 1px solid gray;flex-grow: 1;}#sk-container-id-1 div.sk-label:hover label.sk-toggleable__label {background-color: #d4ebff;}#sk-container-id-1 div.sk-serial::before {content: \"\";position: absolute;border-left: 1px solid gray;box-sizing: border-box;top: 0;bottom: 0;left: 50%;z-index: 0;}#sk-container-id-1 div.sk-serial {display: flex;flex-direction: column;align-items: center;background-color: white;padding-right: 0.2em;padding-left: 0.2em;position: relative;}#sk-container-id-1 div.sk-item {position: relative;z-index: 1;}#sk-container-id-1 div.sk-parallel {display: flex;align-items: stretch;justify-content: center;background-color: white;position: relative;}#sk-container-id-1 div.sk-item::before, #sk-container-id-1 div.sk-parallel-item::before {content: \"\";position: absolute;border-left: 1px solid gray;box-sizing: border-box;top: 0;bottom: 0;left: 50%;z-index: -1;}#sk-container-id-1 div.sk-parallel-item {display: flex;flex-direction: column;z-index: 1;position: relative;background-color: white;}#sk-container-id-1 div.sk-parallel-item:first-child::after {align-self: flex-end;width: 50%;}#sk-container-id-1 div.sk-parallel-item:last-child::after {align-self: flex-start;width: 50%;}#sk-container-id-1 div.sk-parallel-item:only-child::after {width: 0;}#sk-container-id-1 div.sk-dashed-wrapped {border: 1px dashed gray;margin: 0 0.4em 0.5em 0.4em;box-sizing: border-box;padding-bottom: 0.4em;background-color: white;}#sk-container-id-1 div.sk-label label {font-family: monospace;font-weight: bold;display: inline-block;line-height: 1.2em;}#sk-container-id-1 div.sk-label-container {text-align: center;}#sk-container-id-1 div.sk-container {/* jupyter's `normalize.less` sets `[hidden] { display: none; }` but bootstrap.min.css set `[hidden] { display: none !important; }` so we also need the `!important` here to be able to override the default hidden behavior on the sphinx rendered scikit-learn.org. See: https://github.com/scikit-learn/scikit-learn/issues/21755 */display: inline-block !important;position: relative;}#sk-container-id-1 div.sk-text-repr-fallback {display: none;}</style><div id=\"sk-container-id-1\" class=\"sk-top-container\"><div class=\"sk-text-repr-fallback\"><pre>MultinomialNB()</pre><b>In a Jupyter environment, please rerun this cell to show the HTML representation or trust the notebook. <br />On GitHub, the HTML representation is unable to render, please try loading this page with nbviewer.org.</b></div><div class=\"sk-container\" hidden><div class=\"sk-item\"><div class=\"sk-estimator sk-toggleable\"><input class=\"sk-toggleable__control sk-hidden--visually\" id=\"sk-estimator-id-1\" type=\"checkbox\" checked><label for=\"sk-estimator-id-1\" class=\"sk-toggleable__label sk-toggleable__label-arrow\">MultinomialNB</label><div class=\"sk-toggleable__content\"><pre>MultinomialNB()</pre></div></div></div></div></div>"
            ]
          },
          "metadata": {},
          "execution_count": 18
        }
      ],
      "source": [
        "# es muy fácil instanciar un modelo de clasificación Naïve Bayes y entrenarlo con sklearn\n",
        "clf = MultinomialNB()\n",
        "clf.fit(X_train, y_train)"
      ]
    },
    {
      "cell_type": "code",
      "execution_count": null,
      "metadata": {
        "id": "NrQjzM48Mu4T"
      },
      "outputs": [],
      "source": [
        "# con nuestro vectorizador ya fiteado en train, vectorizamos los textos\n",
        "# del conjunto de test\n",
        "X_test = tfidfvect.transform(newsgroups_test.data)\n",
        "y_test = newsgroups_test.target\n",
        "y_pred =  clf.predict(X_test)"
      ]
    },
    {
      "cell_type": "code",
      "execution_count": null,
      "metadata": {
        "colab": {
          "base_uri": "https://localhost:8080/"
        },
        "id": "UkGJhetEPdA4",
        "outputId": "0740fdb6-27fe-43ce-fe2a-25daa35ee695"
      },
      "outputs": [
        {
          "output_type": "execute_result",
          "data": {
            "text/plain": [
              "0.5854345727938506"
            ]
          },
          "metadata": {},
          "execution_count": 20
        }
      ],
      "source": [
        "# el F1-score es una metrica adecuada para reportar desempeño de modelos de claificación\n",
        "# es robusta al desbalance de clases. El promediado 'macro' es el promedio de los\n",
        "# F1-score de cada clase. El promedio 'micro' es equivalente a la accuracy que no\n",
        "# es una buena métrica cuando los datasets son desbalanceados\n",
        "f1_score(y_test, y_pred, average='macro')"
      ]
    },
    {
      "cell_type": "markdown",
      "metadata": {
        "id": "McArD4rSDR2K"
      },
      "source": [
        "### Consigna del desafío 2"
      ]
    },
    {
      "cell_type": "markdown",
      "source": [
        "Alumno: Jorge Flores"
      ],
      "metadata": {
        "id": "sv8kKKGnqBkf"
      }
    },
    {
      "cell_type": "markdown",
      "metadata": {
        "id": "lJgf6GQIIEH1"
      },
      "source": [
        "**1**. Vectorizar documentos. Tomar 5 documentos al azar y medir similaridad con el resto de los documentos.\n",
        "Estudiar los 5 documentos más similares de cada uno analizar si tiene sentido\n",
        "la similaridad según el contenido del texto y la etiqueta de clasificación.\n",
        "\n"
      ]
    },
    {
      "cell_type": "markdown",
      "metadata": {
        "id": "o3hirpeJeMMa"
      },
      "source": [
        "\n",
        "**2**. Entrenar modelos de clasificación Naïve Bayes para maximizar el desempeño de clasificación\n",
        "(f1-score macro) en el conjunto de datos de test. Considerar cambiar parámteros\n",
        "de instanciación del vectorizador y los modelos y probar modelos de Naïve Bayes Multinomial\n",
        "y ComplementNB."
      ]
    },
    {
      "cell_type": "markdown",
      "source": [
        "\n",
        "\n",
        "> Añadir blockquote\n",
        "\n",
        "\n",
        "\n",
        "**3**. Transponer la matriz documento-término. De esa manera se obtiene una matriz\n",
        "término-documento que puede ser interpretada como una colección de vectorización de palabras.\n",
        "Estudiar ahora similaridad entre palabras tomando 5 palabras y estudiando sus 5 más similares. **La elección de palabras no debe ser al azar para evitar la aparición de términos poco interpretables, elegirlas \"manualmente\"**."
      ],
      "metadata": {
        "id": "JS1u_5kle7U8"
      }
    },
    {
      "cell_type": "markdown",
      "source": [
        "**1**. Vectorizar documentos. Tomar 5 documentos al azar y medir similaridad con el resto de los documentos.\n",
        "Estudiar los 5 documentos más similares de cada uno analizar si tiene sentido\n",
        "la similaridad según el contenido del texto y la etiqueta de clasificación."
      ],
      "metadata": {
        "id": "yapudDGbuQtm"
      }
    },
    {
      "cell_type": "code",
      "source": [
        "import random\n",
        "import numpy as np\n",
        "import pandas as pd\n",
        "from sklearn.datasets import fetch_20newsgroups\n",
        "from sklearn.feature_extraction.text import TfidfVectorizer\n",
        "from sklearn.metrics.pairwise import cosine_similarity\n",
        "from sklearn.naive_bayes import MultinomialNB, ComplementNB\n",
        "from sklearn.metrics import f1_score\n",
        "\n",
        "# Cargar datos\n",
        "train = fetch_20newsgroups(subset='train', remove=('headers', 'footers', 'quotes'))\n",
        "test = fetch_20newsgroups(subset='test', remove=('headers', 'footers', 'quotes'))\n"
      ],
      "metadata": {
        "id": "l1J_7glCTssY"
      },
      "execution_count": 30,
      "outputs": []
    },
    {
      "cell_type": "code",
      "source": [
        "# Vectorizamos los documentos con TF-IDF\n",
        "# - stop_words='english': elimina palabras comunes en inglés\n",
        "# - max_df=0.7: elimina palabras que aparecen en más del 70% de los documentos\n",
        "vectorizer = TfidfVectorizer(stop_words='english', max_df=0.5, min_df=5, ngram_range=(1,2))\n",
        "\n",
        "# Aplicamos la transformación a los textos de entrenamiento y test\n",
        "X_train = vectorizer.fit_transform(train.data)\n",
        "X_test = vectorizer.transform(test.data)\n",
        "\n",
        "# Extraemos las etiquetas (clases) correspondientes\n",
        "y_train = train.target\n",
        "y_test = test.target\n"
      ],
      "metadata": {
        "id": "eSAb48YmUyXQ"
      },
      "execution_count": 31,
      "outputs": []
    },
    {
      "cell_type": "code",
      "source": [
        "# Semilla para reproducibilidad\n",
        "random.seed(42)\n",
        "\n",
        "# Seleccionamos 5 documentos al azar del conjunto de entrenamiento\n",
        "indices_azar = random.sample(range(len(train.data)), 5)\n",
        "\n",
        "# Recorremos cada documento seleccionado\n",
        "for idx in indices_azar:\n",
        "    print(\"=\" * 100)\n",
        "    print(f\"DOCUMENTO ORIGINAL - Índice: {idx}\")\n",
        "    print(\"-\" * 100)\n",
        "\n",
        "    # Mostramos parte del texto original, formateado en líneas de ancho 100\n",
        "    texto_original = train.data[idx][:500].strip()\n",
        "    print(textwrap.fill(texto_original, width=100))\n",
        "\n",
        "    # Mostramos la clase del documento original\n",
        "    print(f\"\\nClase: {train.target_names[y_train[idx]]}\")\n",
        "    print(\"=\" * 100)\n",
        "\n",
        "    # Calculamos la similitud coseno con todos los documentos del entrenamiento\n",
        "    cossim = cosine_similarity(X_train[idx], X_train)[0]\n",
        "\n",
        "    # Excluimos el propio documento\n",
        "    cossim[idx] = 0\n",
        "\n",
        "    # Obtenemos el índice del documento más similar\n",
        "    idx_mas_similar = np.argmax(cossim)\n",
        "\n",
        "    # Mostramos la información del documento más similar\n",
        "    print(\"DOCUMENTO MÁS SIMILAR:\")\n",
        "    print(\"-\" * 100)\n",
        "    print(f\"Índice: {idx_mas_similar}\")\n",
        "    print(f\"Clase: {train.target_names[y_train[idx_mas_similar]]}\")\n",
        "    print(f\"Similitud coseno: {cossim[idx_mas_similar]:.4f}\")\n",
        "\n",
        "    # Mostramos parte del texto del documento más similar\n",
        "    texto_similar = train.data[idx_mas_similar][:500].strip()\n",
        "    print(textwrap.fill(texto_similar, width=100))\n",
        "    print(\"=\" * 100)\n",
        "    print(\"\\n\\n\")\n"
      ],
      "metadata": {
        "colab": {
          "base_uri": "https://localhost:8080/"
        },
        "id": "RbfeHeYGkoJ_",
        "outputId": "0ef465ca-390e-4f2a-b78e-c310feb5fadf"
      },
      "execution_count": 32,
      "outputs": [
        {
          "output_type": "stream",
          "name": "stdout",
          "text": [
            "====================================================================================================\n",
            "DOCUMENTO ORIGINAL - Índice: 10476\n",
            "----------------------------------------------------------------------------------------------------\n",
            "This is a general question for US readers:  How extensive is the playoff coverage down there?  In\n",
            "Canada, it is almost impossible not to watch a series on TV (ie the only two series I have not had\n",
            "an opportunity to watch this year are Wash-NYI and Chi-Stl, the latter because I'm in the wrong time\n",
            "zone!).  We (in Canada) are basically swamped with  coverage, and I wonder how many series/games are\n",
            "televised nationally or even locally in the US and how much precedence they take over, say, local\n",
            "new\n",
            "\n",
            "Clase: rec.sport.hockey\n",
            "====================================================================================================\n",
            "DOCUMENTO MÁS SIMILAR:\n",
            "----------------------------------------------------------------------------------------------------\n",
            "Índice: 5064\n",
            "Clase: rec.sport.hockey\n",
            "Similitud coseno: 0.1930\n",
            "I only have one comment on this:  You call this a *classic* playoff year and yet you don't include a\n",
            "Chicago-Detroit series.  C'mon, I'm a Boston fan and I even realize that Chicago-Detroit games are\n",
            "THE most exciting games to watch.\n",
            "====================================================================================================\n",
            "\n",
            "\n",
            "\n",
            "====================================================================================================\n",
            "DOCUMENTO ORIGINAL - Índice: 1824\n",
            "----------------------------------------------------------------------------------------------------\n",
            "I think this kind of comparison is pretty useless in general.  The processor is only good when a\n",
            "good computer is designed around it adn the computer is used in its designed purpose.  Comparing\n",
            "processor speed is pretty dumb because all you have to do is just increase the clock speed to\n",
            "increase speed among other things.          I mean how can you say a 040 is faster than a 486\n",
            "without  giving is operational conditions?  Can you say the same when  you are running a program\n",
            "that uses a lot of transi\n",
            "\n",
            "Clase: comp.sys.mac.hardware\n",
            "====================================================================================================\n",
            "DOCUMENTO MÁS SIMILAR:\n",
            "----------------------------------------------------------------------------------------------------\n",
            "Índice: 9921\n",
            "Clase: comp.sys.mac.hardware\n",
            "Similitud coseno: 0.4056\n",
            "dhk@ubbpc.uucp (Dave Kitabjian) writes ...  040 486 030 386 020 286   060 fastest, then Pentium,\n",
            "with the first versions of the PowerPC somewhere in the vicinity.   No.  Computer speed is only\n",
            "partly dependent of processor/clock speed. Memory system speed play a large role as does video\n",
            "system speed and I/O speed.  As processor clock rates go up, the speed of the memory system becomes\n",
            "the greatest factor in the overall system speed.  If you have a 50MHz processor, it can be reading\n",
            "another word\n",
            "====================================================================================================\n",
            "\n",
            "\n",
            "\n",
            "====================================================================================================\n",
            "DOCUMENTO ORIGINAL - Índice: 409\n",
            "----------------------------------------------------------------------------------------------------\n",
            "I can't fiqure this out.  I have properly compiled pov on a unix machine running SunOS 4.1.3  The\n",
            "problem is that when I run the sample .pov files and use the EXACT same parameters when compiling\n",
            "different .tga outputs.  Some of the .tga's are okay, and other's are unrecognizable by any\n",
            "software.\n",
            "\n",
            "Clase: comp.graphics\n",
            "====================================================================================================\n",
            "DOCUMENTO MÁS SIMILAR:\n",
            "----------------------------------------------------------------------------------------------------\n",
            "Índice: 5905\n",
            "Clase: comp.graphics\n",
            "Similitud coseno: 0.2212\n",
            "Hallo POV-Renderers ! I've got a BocaX3 Card. Now I try to get POV displaying True Colors while\n",
            "rendering. I've tried most of the options and UNIVESA-Driver but what happens isn't correct. Can\n",
            "anybody help me ?\n",
            "====================================================================================================\n",
            "\n",
            "\n",
            "\n",
            "====================================================================================================\n",
            "DOCUMENTO ORIGINAL - Índice: 4506\n",
            "----------------------------------------------------------------------------------------------------\n",
            "This does sound good, but I heard it tends to leave more grit, etc in the  oil pan.  Also, I've been\n",
            "told to change the old when it's hot before the grit has much time to settle.  Any opinions?\n",
            "\n",
            "Clase: rec.autos\n",
            "====================================================================================================\n",
            "DOCUMENTO MÁS SIMILAR:\n",
            "----------------------------------------------------------------------------------------------------\n",
            "Índice: 4211\n",
            "Clase: rec.motorcycles\n",
            "Similitud coseno: 0.2447\n",
            "It's normal for the BMW K bikes to use a little oil in the first few thousand  miles.  I don't know\n",
            "why.  I've had three new K bikes, and all three used a bit of oil when new - max maybe .4 quart in\n",
            "first 1000 miles; this soon quits and by the time I had 10,000 miles on them the oil consumption was\n",
            "about zero. I've been told that the harder you run the bike (within reason) the sooner it stops\n",
            "using any oil.\n",
            "====================================================================================================\n",
            "\n",
            "\n",
            "\n",
            "====================================================================================================\n",
            "DOCUMENTO ORIGINAL - Índice: 4012\n",
            "----------------------------------------------------------------------------------------------------\n",
            "For those Leaf fans who are concerned, the following players are slated for return on Thursday's\n",
            "Winnipeg-Toronto game :     Peter Zezel, John Cullen    Mark Osborne and Dave Ellett are\n",
            "questionable to return on Thursday.\n",
            "\n",
            "Clase: rec.sport.hockey\n",
            "====================================================================================================\n",
            "DOCUMENTO MÁS SIMILAR:\n",
            "----------------------------------------------------------------------------------------------------\n",
            "Índice: 10644\n",
            "Clase: rec.sport.hockey\n",
            "Similitud coseno: 0.1628\n",
            "In  <1qvos8$r78@cl.msu.>, vergolin@euler.lbs.msu.edu (David Vergolini) writes...  There's quite a\n",
            "few Wings fans lurking about here, they just tend to be low key and thoughtful rather than woofers.\n",
            "I suppose every family must have a Roger Clinton, though.  But remember (to paraphrase one of my\n",
            "favorite Star Trek lines), \"if we adopt the ways of the Leaf fans, we are as bad as the Leaf fans\".\n",
            "Ron\n",
            "====================================================================================================\n",
            "\n",
            "\n",
            "\n"
          ]
        }
      ]
    },
    {
      "cell_type": "markdown",
      "source": [
        "\n",
        "**2**. Entrenar modelos de clasificación Naïve Bayes para maximizar el desempeño de clasificación\n",
        "(f1-score macro) en el conjunto de datos de test. Considerar cambiar parámteros\n",
        "de instanciación del vectorizador y los modelos y probar modelos de Naïve Bayes Multinomial\n",
        "y ComplementNB."
      ],
      "metadata": {
        "id": "RCwntoHGuUUK"
      }
    },
    {
      "cell_type": "code",
      "source": [
        "\n",
        "# Instanciamos un modelo de clasificación Naïve Bayes Multinomial\n",
        "clf = MultinomialNB()\n",
        "\n",
        "# Entrenamos el modelo con los datos vectorizados de entrenamiento\n",
        "clf.fit(X_train, y_train)\n",
        "\n",
        "# Usamos el mismo vectorizador TF-IDF ya entrenado (fiteado) para transformar los textos del test\n",
        "# Esto asegura que se usen las mismas palabras y pesos que en entrenamiento\n",
        "X_test = vectorizer.transform(test.data)\n",
        "y_test = test.target  # etiquetas verdaderas del conjunto de test\n",
        "\n",
        "# Hacemos predicciones sobre los documentos del conjunto de test\n",
        "y_pred = clf.predict(X_test)\n",
        "\n",
        "# Calculamos el F1-score macro, que promedia el F1 de cada clase (sin importar cuántos ejemplos tenga cada clase)\n",
        "# Es más robusto ante desbalance de clases que la accuracy\n",
        "f1_macro = f1_score(y_test, y_pred, average='macro')\n",
        "\n",
        "# Mostramos el resultado\n",
        "print(f\"F1-score macro (MultinomialNB): {f1_macro:.4f}\")\n"
      ],
      "metadata": {
        "colab": {
          "base_uri": "https://localhost:8080/"
        },
        "id": "S3V-rsJbl9zz",
        "outputId": "9e5fb72c-d60b-4623-d77f-ac9df5991b7d"
      },
      "execution_count": 20,
      "outputs": [
        {
          "output_type": "stream",
          "name": "stdout",
          "text": [
            "F1-score macro (MultinomialNB): 0.7940\n"
          ]
        }
      ]
    },
    {
      "cell_type": "markdown",
      "source": [
        "\n",
        "\n",
        "\n",
        "**3**. Transponer la matriz documento-término. De esa manera se obtiene una matriz\n",
        "término-documento que puede ser interpretada como una colección de vectorización de palabras.\n",
        "Estudiar ahora similaridad entre palabras tomando 5 palabras y estudiando sus 5 más similares. **La elección de palabras no debe ser al azar para evitar la aparición de términos poco interpretables, elegirlas \"manualmente\"**."
      ],
      "metadata": {
        "id": "e1xEY4C1ujSK"
      }
    },
    {
      "cell_type": "code",
      "source": [
        "# Transponemos la matriz documento-término para obtener término-documento\n",
        "# Cada fila representa una palabra (vector de aparición en documentos)\n",
        "term_doc_matrix = X_train.T  # (vocab_size, n_docs)\n",
        "\n",
        "# Obtenemos el vocabulario como array indexado correctamente\n",
        "vocabulario = vectorizer.get_feature_names_out()\n",
        "\n",
        "# Creamos un diccionario de palabra → índice para buscar más fácilmente\n",
        "word_to_index = {word: idx for idx, word in enumerate(vocabulario)}\n",
        "\n",
        "# Elegimos 5 palabras manualmente (asegurar que sean interpretables y estén en el vocabulario)\n",
        "palabras_elegidas = [\"space\", \"jesus\", \"argentine\", \"universe\", \"satellite\"]\n",
        "\n",
        "# Recorremos cada palabra seleccionada\n",
        "for palabra in palabras_elegidas:\n",
        "    print(\"=\" * 100)\n",
        "    print(f\"PALABRA BASE: '{palabra}'\")\n",
        "\n",
        "    # Verificamos que la palabra esté en el vocabulario\n",
        "    if palabra not in word_to_index:\n",
        "        print(\" → Esta palabra no está en el vocabulario del vectorizador.\")\n",
        "        continue\n",
        "\n",
        "    # Obtenemos el vector de la palabra (como aparece en todos los documentos)\n",
        "    idx = word_to_index[palabra]\n",
        "    vector_palabra = term_doc_matrix[idx]\n",
        "\n",
        "    # Calculamos similitud coseno de esta palabra contra todas las demás\n",
        "    similitudes = cosine_similarity(vector_palabra, term_doc_matrix).flatten()\n",
        "\n",
        "    # Excluimos a sí misma para no aparecer como \"más similar\"\n",
        "    similitudes[idx] = 0\n",
        "\n",
        "    # Obtenemos las 5 palabras con mayor similitud\n",
        "    top_similares = np.argsort(similitudes)[::-1][:5]\n",
        "\n",
        "    # Mostramos las palabras más similares\n",
        "    print(\"\\nPalabras más similares:\")\n",
        "    for i in top_similares:\n",
        "        palabra_similar = vocabulario[i]  # acceso correcto garantizado\n",
        "        score = similitudes[i]\n",
        "        print(f\"- {palabra_similar:15s} (similitud: {score:.4f})\")\n"
      ],
      "metadata": {
        "colab": {
          "base_uri": "https://localhost:8080/"
        },
        "id": "C1RKvq22pCSc",
        "outputId": "659a69af-28fc-4cbb-e0f2-70941df18d2d"
      },
      "execution_count": 29,
      "outputs": [
        {
          "output_type": "stream",
          "name": "stdout",
          "text": [
            "====================================================================================================\n",
            "PALABRA BASE: 'space'\n",
            "\n",
            "Palabras más similares:\n",
            "- shuttle         (similitud: 0.3854)\n",
            "- space shuttle   (similitud: 0.3796)\n",
            "- space station   (similitud: 0.3658)\n",
            "- space digest    (similitud: 0.3536)\n",
            "- subject space   (similitud: 0.3400)\n",
            "====================================================================================================\n",
            "PALABRA BASE: 'jesus'\n",
            "\n",
            "Palabras más similares:\n",
            "- christ          (similitud: 0.3714)\n",
            "- did jesus       (similitud: 0.3291)\n",
            "- god             (similitud: 0.3227)\n",
            "- said jesus      (similitud: 0.3196)\n",
            "- subject prayer  (similitud: 0.3191)\n",
            "====================================================================================================\n",
            "PALABRA BASE: 'argentine'\n",
            " → Esta palabra no está en el vocabulario del vectorizador.\n",
            "====================================================================================================\n",
            "PALABRA BASE: 'universe'\n",
            "\n",
            "Palabras más similares:\n",
            "- interact        (similitud: 0.4156)\n",
            "- universe just   (similitud: 0.4036)\n",
            "- does universe   (similitud: 0.3989)\n",
            "- universe exist  (similitud: 0.3928)\n",
            "- measurable      (similitud: 0.3692)\n",
            "====================================================================================================\n",
            "PALABRA BASE: 'satellite'\n",
            "\n",
            "Palabras más similares:\n",
            "- satellite launched (similitud: 0.5444)\n",
            "- launched        (similitud: 0.4567)\n",
            "- satellites      (similitud: 0.4123)\n",
            "- itar            (similitud: 0.3236)\n",
            "- drag free       (similitud: 0.3100)\n"
          ]
        }
      ]
    }
  ],
  "metadata": {
    "colab": {
      "provenance": [],
      "include_colab_link": true
    },
    "kernelspec": {
      "display_name": "Python 3",
      "name": "python3"
    },
    "language_info": {
      "name": "python"
    }
  },
  "nbformat": 4,
  "nbformat_minor": 0
}